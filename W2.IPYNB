{
 "cells": [
  {
   "cell_type": "code",
   "execution_count": 1,
   "metadata": {},
   "outputs": [],
   "source": [
    "import pandas as pd\n",
    "import numpy as np\n",
    "from sklearn.model_selection import train_test_split\n",
    "from sklearn.ensemble import RandomForestClassifier\n",
    "from sklearn.preprocessing import LabelEncoder, StandardScaler\n",
    "from sklearn.metrics import accuracy_score, classification_report, roc_auc_score\n"
   ]
  },
  {
   "cell_type": "code",
   "execution_count": 2,
   "metadata": {},
   "outputs": [],
   "source": [
    "# Load dataset\n",
    "data = pd.read_csv('twitchdata-update.csv')\n",
    "\n",
    "data = data.head(50)\n"
   ]
  },
  {
   "cell_type": "code",
   "execution_count": 3,
   "metadata": {},
   "outputs": [
    {
     "name": "stdout",
     "output_type": "stream",
     "text": [
      "    Channel  Watch time(Minutes)  Stream time(minutes)  Peak viewers  \\\n",
      "0     xQcOW           6196161750                215250        222720   \n",
      "1  summit1g           6091677300                211845        310998   \n",
      "2    Gaules           5644590915                515280        387315   \n",
      "3  ESL_CSGO           3970318140                517740        300575   \n",
      "4      Tfue           3671000070                123660        285644   \n",
      "\n",
      "   Average viewers  Followers  Followers gained  Views gained  Partnered  \\\n",
      "0            27716    3246298           1734810      93036735       True   \n",
      "1            25610    5310163           1370184      89705964       True   \n",
      "2            10976    1767635           1023779     102611607       True   \n",
      "3             7714    3944850            703986     106546942       True   \n",
      "4            29602    8938903           2068424      78998587       True   \n",
      "\n",
      "   Mature    Language  \n",
      "0   False     English  \n",
      "1   False     English  \n",
      "2    True  Portuguese  \n",
      "3   False     English  \n",
      "4   False     English  \n",
      "Channel                 0\n",
      "Watch time(Minutes)     0\n",
      "Stream time(minutes)    0\n",
      "Peak viewers            0\n",
      "Average viewers         0\n",
      "Followers               0\n",
      "Followers gained        0\n",
      "Views gained            0\n",
      "Partnered               0\n",
      "Mature                  0\n",
      "Language                0\n",
      "dtype: int64\n"
     ]
    },
    {
     "name": "stderr",
     "output_type": "stream",
     "text": [
      "C:\\Users\\laksh\\AppData\\Local\\Temp\\ipykernel_13436\\2519391430.py:7: FutureWarning: A value is trying to be set on a copy of a DataFrame or Series through chained assignment using an inplace method.\n",
      "The behavior will change in pandas 3.0. This inplace method will never work because the intermediate object on which we are setting values always behaves as a copy.\n",
      "\n",
      "For example, when doing 'df[col].method(value, inplace=True)', try using 'df.method({col: value}, inplace=True)' or df[col] = df[col].method(value) instead, to perform the operation inplace on the original object.\n",
      "\n",
      "\n",
      "  data[col].fillna(data[col].mean(), inplace=True)\n"
     ]
    }
   ],
   "source": [
    "\n",
    "# Display the first few rows\n",
    "print(data.head())\n",
    "\n",
    "# Handle missing values using mean for numerical columns\n",
    "numerical_columns = data.select_dtypes(include=['float64', 'int64']).columns\n",
    "for col in numerical_columns:\n",
    "    data[col].fillna(data[col].mean(), inplace=True)\n",
    "\n",
    "# Verify missing values are handled\n",
    "print(data.isnull().sum())  # Should return 0 for all columns\n",
    "\n",
    "\n",
    "# Create binary target: High Growth = 1, Low Growth = 0\n",
    "median_followers = data['Followers gained'].median()\n",
    "data['Growth_Category'] = np.where(data['Followers gained'] > median_followers, 1, 0)\n",
    "\n",
    "# Encode the 'Language' column\n",
    "le = LabelEncoder()\n",
    "data['Language_encoded'] = le.fit_transform(data['Language'])\n",
    "\n",
    "# Drop irrelevant columns\n",
    "X = data[['Watch time(Minutes)', 'Stream time(minutes)', 'Peak viewers', \n",
    "          'Average viewers', 'Language_encoded']]\n",
    "y = data['Growth_Category']\n"
   ]
  },
  {
   "cell_type": "code",
   "execution_count": 4,
   "metadata": {},
   "outputs": [],
   "source": [
    "# Split dataset into train and test sets\n",
    "X_train, X_test, y_train, y_test = train_test_split(X, y, test_size=0.2, random_state=42)\n",
    "\n",
    "# Standardize numerical features\n",
    "scaler = StandardScaler()\n",
    "X_train = scaler.fit_transform(X_train)\n",
    "X_test = scaler.transform(X_test)\n"
   ]
  },
  {
   "cell_type": "code",
   "execution_count": 5,
   "metadata": {},
   "outputs": [],
   "source": [
    "# Train a Random Forest Classifier\n",
    "clf = RandomForestClassifier(n_estimators=100, random_state=0)\n",
    "clf.fit(X_train, y_train)\n",
    "\n",
    "# Make predictions\n",
    "y_pred = clf.predict(X_test)\n",
    "y_prob = clf.predict_proba(X_test)[:, 1]  # Probabilities for AUC-ROC\n"
   ]
  },
  {
   "cell_type": "code",
   "execution_count": 6,
   "metadata": {},
   "outputs": [
    {
     "name": "stdout",
     "output_type": "stream",
     "text": [
      "Accuracy: 80.00%\n",
      "Classification Report:\n",
      "              precision    recall  f1-score   support\n",
      "\n",
      "           0       1.00      0.75      0.86         8\n",
      "           1       0.50      1.00      0.67         2\n",
      "\n",
      "    accuracy                           0.80        10\n",
      "   macro avg       0.75      0.88      0.76        10\n",
      "weighted avg       0.90      0.80      0.82        10\n",
      "\n",
      "AUC-ROC Score: 0.88\n"
     ]
    }
   ],
   "source": [
    "# Evaluate accuracy\n",
    "accuracy = accuracy_score(y_test, y_pred)\n",
    "print(f'Accuracy: {accuracy * 100:.2f}%')\n",
    "\n",
    "# Detailed classification report\n",
    "print(\"Classification Report:\")\n",
    "print(classification_report(y_test, y_pred))\n",
    "\n",
    "# AUC-ROC Score\n",
    "roc_auc = roc_auc_score(y_test, y_prob)\n",
    "print(f'AUC-ROC Score: {roc_auc:.2f}')\n"
   ]
  },
  {
   "cell_type": "code",
   "execution_count": 7,
   "metadata": {},
   "outputs": [],
   "source": [
    "import pickle\n",
    "from sklearn.ensemble import RandomForestClassifier\n",
    "\n",
    "# Assuming `model` is your trained RandomForest model\n",
    "with open('model2.pkl', 'wb') as f:\n",
    "    pickle.dump(clf, f)\n",
    "\n"
   ]
  }
 ],
 "metadata": {
  "kernelspec": {
   "display_name": "base",
   "language": "python",
   "name": "python3"
  },
  "language_info": {
   "codemirror_mode": {
    "name": "ipython",
    "version": 3
   },
   "file_extension": ".py",
   "mimetype": "text/x-python",
   "name": "python",
   "nbconvert_exporter": "python",
   "pygments_lexer": "ipython3",
   "version": "3.12.4"
  }
 },
 "nbformat": 4,
 "nbformat_minor": 2
}
